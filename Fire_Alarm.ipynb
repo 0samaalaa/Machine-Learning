{
 "cells": [
  {
   "cell_type": "code",
   "execution_count": 1,
   "id": "29f1ad93",
   "metadata": {},
   "outputs": [],
   "source": [
    "# importing libirarys\n",
    "import pandas as pd\n",
    "import numpy as np\n",
    "import matplotlib.pyplot as plt"
   ]
  },
  {
   "cell_type": "code",
   "execution_count": 4,
   "id": "d2aff8d4",
   "metadata": {},
   "outputs": [],
   "source": [
    "# importing data\n",
    "path =  r'D:\\osama\\osama\\Machine Learning Workshop\\Lecture 8\\smoke_detection_iot.csv'\n",
    "\n",
    "data= pd.read_csv(path)"
   ]
  },
  {
   "cell_type": "code",
   "execution_count": 5,
   "id": "e96fe935",
   "metadata": {},
   "outputs": [
    {
     "data": {
      "text/html": [
       "<div>\n",
       "<style scoped>\n",
       "    .dataframe tbody tr th:only-of-type {\n",
       "        vertical-align: middle;\n",
       "    }\n",
       "\n",
       "    .dataframe tbody tr th {\n",
       "        vertical-align: top;\n",
       "    }\n",
       "\n",
       "    .dataframe thead th {\n",
       "        text-align: right;\n",
       "    }\n",
       "</style>\n",
       "<table border=\"1\" class=\"dataframe\">\n",
       "  <thead>\n",
       "    <tr style=\"text-align: right;\">\n",
       "      <th></th>\n",
       "      <th>num</th>\n",
       "      <th>UTC</th>\n",
       "      <th>Temperature</th>\n",
       "      <th>Humidity</th>\n",
       "      <th>TVOC</th>\n",
       "      <th>eCO2</th>\n",
       "      <th>Raw_H2</th>\n",
       "      <th>Raw_Ethanol</th>\n",
       "      <th>Pressure</th>\n",
       "      <th>PM1</th>\n",
       "      <th>PM2</th>\n",
       "      <th>NC0</th>\n",
       "      <th>NC1</th>\n",
       "      <th>NC2</th>\n",
       "      <th>CNT</th>\n",
       "      <th>Fire_Alarm</th>\n",
       "    </tr>\n",
       "  </thead>\n",
       "  <tbody>\n",
       "    <tr>\n",
       "      <th>0</th>\n",
       "      <td>0</td>\n",
       "      <td>1654733331</td>\n",
       "      <td>20.000</td>\n",
       "      <td>57.36</td>\n",
       "      <td>0</td>\n",
       "      <td>400</td>\n",
       "      <td>12306</td>\n",
       "      <td>18520</td>\n",
       "      <td>939.735</td>\n",
       "      <td>0.0</td>\n",
       "      <td>0.0</td>\n",
       "      <td>0.0</td>\n",
       "      <td>0.0</td>\n",
       "      <td>0.0</td>\n",
       "      <td>0</td>\n",
       "      <td>0</td>\n",
       "    </tr>\n",
       "    <tr>\n",
       "      <th>1</th>\n",
       "      <td>1</td>\n",
       "      <td>1654733332</td>\n",
       "      <td>20.015</td>\n",
       "      <td>56.67</td>\n",
       "      <td>0</td>\n",
       "      <td>400</td>\n",
       "      <td>12345</td>\n",
       "      <td>18651</td>\n",
       "      <td>939.744</td>\n",
       "      <td>0.0</td>\n",
       "      <td>0.0</td>\n",
       "      <td>0.0</td>\n",
       "      <td>0.0</td>\n",
       "      <td>0.0</td>\n",
       "      <td>1</td>\n",
       "      <td>0</td>\n",
       "    </tr>\n",
       "    <tr>\n",
       "      <th>2</th>\n",
       "      <td>2</td>\n",
       "      <td>1654733333</td>\n",
       "      <td>20.029</td>\n",
       "      <td>55.96</td>\n",
       "      <td>0</td>\n",
       "      <td>400</td>\n",
       "      <td>12374</td>\n",
       "      <td>18764</td>\n",
       "      <td>939.738</td>\n",
       "      <td>0.0</td>\n",
       "      <td>0.0</td>\n",
       "      <td>0.0</td>\n",
       "      <td>0.0</td>\n",
       "      <td>0.0</td>\n",
       "      <td>2</td>\n",
       "      <td>0</td>\n",
       "    </tr>\n",
       "    <tr>\n",
       "      <th>3</th>\n",
       "      <td>3</td>\n",
       "      <td>1654733334</td>\n",
       "      <td>20.044</td>\n",
       "      <td>55.28</td>\n",
       "      <td>0</td>\n",
       "      <td>400</td>\n",
       "      <td>12390</td>\n",
       "      <td>18849</td>\n",
       "      <td>939.736</td>\n",
       "      <td>0.0</td>\n",
       "      <td>0.0</td>\n",
       "      <td>0.0</td>\n",
       "      <td>0.0</td>\n",
       "      <td>0.0</td>\n",
       "      <td>3</td>\n",
       "      <td>0</td>\n",
       "    </tr>\n",
       "    <tr>\n",
       "      <th>4</th>\n",
       "      <td>4</td>\n",
       "      <td>1654733335</td>\n",
       "      <td>20.059</td>\n",
       "      <td>54.69</td>\n",
       "      <td>0</td>\n",
       "      <td>400</td>\n",
       "      <td>12403</td>\n",
       "      <td>18921</td>\n",
       "      <td>939.744</td>\n",
       "      <td>0.0</td>\n",
       "      <td>0.0</td>\n",
       "      <td>0.0</td>\n",
       "      <td>0.0</td>\n",
       "      <td>0.0</td>\n",
       "      <td>4</td>\n",
       "      <td>0</td>\n",
       "    </tr>\n",
       "  </tbody>\n",
       "</table>\n",
       "</div>"
      ],
      "text/plain": [
       "   num         UTC  Temperature  Humidity  TVOC  eCO2  Raw_H2  Raw_Ethanol  \\\n",
       "0    0  1654733331       20.000     57.36     0   400   12306        18520   \n",
       "1    1  1654733332       20.015     56.67     0   400   12345        18651   \n",
       "2    2  1654733333       20.029     55.96     0   400   12374        18764   \n",
       "3    3  1654733334       20.044     55.28     0   400   12390        18849   \n",
       "4    4  1654733335       20.059     54.69     0   400   12403        18921   \n",
       "\n",
       "   Pressure  PM1  PM2  NC0  NC1  NC2  CNT  Fire_Alarm  \n",
       "0   939.735  0.0  0.0  0.0  0.0  0.0    0           0  \n",
       "1   939.744  0.0  0.0  0.0  0.0  0.0    1           0  \n",
       "2   939.738  0.0  0.0  0.0  0.0  0.0    2           0  \n",
       "3   939.736  0.0  0.0  0.0  0.0  0.0    3           0  \n",
       "4   939.744  0.0  0.0  0.0  0.0  0.0    4           0  "
      ]
     },
     "execution_count": 5,
     "metadata": {},
     "output_type": "execute_result"
    }
   ],
   "source": [
    "data.head()"
   ]
  },
  {
   "cell_type": "code",
   "execution_count": 6,
   "id": "958fc875",
   "metadata": {},
   "outputs": [
    {
     "name": "stdout",
     "output_type": "stream",
     "text": [
      "number of features : 14\n"
     ]
    }
   ],
   "source": [
    "#getting number of features without num and fire alarm\n",
    "x , y = data.shape\n",
    "number_of_features = y - 2\n",
    "print(f'number of features : {number_of_features}')"
   ]
  },
  {
   "cell_type": "code",
   "execution_count": 7,
   "id": "a63ae998",
   "metadata": {},
   "outputs": [
    {
     "name": "stdout",
     "output_type": "stream",
     "text": [
      "number of data:  62630\n"
     ]
    }
   ],
   "source": [
    "#printing number of data\n",
    "print(f'number of data:  {x}')"
   ]
  },
  {
   "cell_type": "code",
   "execution_count": 38,
   "id": "bdeb82e6",
   "metadata": {},
   "outputs": [
    {
     "name": "stdout",
     "output_type": "stream",
     "text": [
      "44757\n",
      "17873\n"
     ]
    }
   ],
   "source": [
    "#getting fire status\n",
    "Yes_Fire = data[data['Fire_Alarm'].isin([1])]\n",
    "No_Fire = data[data['Fire_Alarm'].isin([0])]\n",
    "t = len(Yes_Fire)\n",
    "print(r)\n",
    "f =len(No_Fire)\n",
    "print(s)"
   ]
  },
  {
   "cell_type": "code",
   "execution_count": 53,
   "id": "d47c1880",
   "metadata": {},
   "outputs": [
    {
     "data": {
      "image/png": "[encoded data removed]",
      "text/plain": [
       "<Figure size 640x480 with 1 Axes>"
      ]
     },
     "metadata": {},
     "output_type": "display_data"
    }
   ],
   "source": [
    "#fire alarm graph\n",
    "y = np.array([t,f])\n",
    "labels = [\"Yes_Fire\",\"No_Fire\"]\n",
    "colors = [\"#7990CD\",\"#FFA54D\"]\n",
    "plt.pie(y,labels = labels,colors=colors,autopct='%1.1f%%',startangle = 180,wedgeprops = {\"edgecolor\" : \"black\", 'linewidth': 1,\n",
    "'antialiased': True})\n",
    "plt.title('Fire Alarm Graph', loc='left')\n",
    "plt.legend()\n",
    "plt.show() "
   ]
  },
  {
   "cell_type": "code",
   "execution_count": null,
   "id": "12d103eb",
   "metadata": {},
   "outputs": [],
   "source": []
  }
 ],
 "metadata": {
  "kernelspec": {
   "display_name": "Python 3 (ipykernel)",
   "language": "python",
   "name": "python3"
  },
  "language_info": {
   "codemirror_mode": {
    "name": "ipython",
    "version": 3
   },
   "file_extension": ".py",
   "mimetype": "text/x-python",
   "name": "python",
   "nbconvert_exporter": "python",
   "pygments_lexer": "ipython3",
   "version": "3.10.9"
  }
 },
 "nbformat": 4,
 "nbformat_minor": 5
}
